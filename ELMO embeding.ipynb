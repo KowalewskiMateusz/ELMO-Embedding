{
 "cells": [
  {
   "cell_type": "code",
   "execution_count": null,
   "metadata": {},
   "outputs": [],
   "source": [
    "trainFileName = 'sample.tsv'\n",
    "newdata = 'elmosample.tsv'\n",
    "\n",
    "f = open(trainFileName,\"r\",encoding=\"utf-8\",errors=\"ignore\")\n",
    "fw = open(newdata,\"w\",encoding=\"utf-8\")\n",
    "\n",
    "count = 0;\n",
    "max_count = 4*10\n",
    "\n",
    "for line in f:\n",
    "\tif(count<max_count):\n",
    "\t\tfw.write(line)\n",
    "\t\tcount = +1;\n",
    "\n",
    "f.close()\n",
    "fw.close()"
   ]
  },
  {
   "cell_type": "code",
   "execution_count": 1,
   "metadata": {},
   "outputs": [],
   "source": [
    "import pandas as pd"
   ]
  },
  {
   "cell_type": "code",
   "execution_count": 2,
   "metadata": {},
   "outputs": [],
   "source": [
    "data = pd.read_csv('elmosample.tsv', sep='\\t', header = None)"
   ]
  },
  {
   "cell_type": "code",
   "execution_count": 3,
   "metadata": {},
   "outputs": [
    {
     "data": {
      "text/html": [
       "<div>\n",
       "<style>\n",
       "    .dataframe thead tr:only-child th {\n",
       "        text-align: right;\n",
       "    }\n",
       "\n",
       "    .dataframe thead th {\n",
       "        text-align: left;\n",
       "    }\n",
       "\n",
       "    .dataframe tbody tr th {\n",
       "        vertical-align: top;\n",
       "    }\n",
       "</style>\n",
       "<table border=\"1\" class=\"dataframe\">\n",
       "  <thead>\n",
       "    <tr style=\"text-align: right;\">\n",
       "      <th></th>\n",
       "      <th>0</th>\n",
       "      <th>1</th>\n",
       "      <th>2</th>\n",
       "      <th>3</th>\n",
       "      <th>4</th>\n",
       "    </tr>\n",
       "  </thead>\n",
       "  <tbody>\n",
       "    <tr>\n",
       "      <th>0</th>\n",
       "      <td>131</td>\n",
       "      <td>. what is a corporation?</td>\n",
       "      <td>A company is incorporated in a specific nation...</td>\n",
       "      <td>0</td>\n",
       "      <td>0</td>\n",
       "    </tr>\n",
       "    <tr>\n",
       "      <th>1</th>\n",
       "      <td>131</td>\n",
       "      <td>. what is a corporation?</td>\n",
       "      <td>Today, there is a growing community of more th...</td>\n",
       "      <td>0</td>\n",
       "      <td>1</td>\n",
       "    </tr>\n",
       "    <tr>\n",
       "      <th>2</th>\n",
       "      <td>131</td>\n",
       "      <td>. what is a corporation?</td>\n",
       "      <td>Corporation definition, an association of indi...</td>\n",
       "      <td>0</td>\n",
       "      <td>2</td>\n",
       "    </tr>\n",
       "    <tr>\n",
       "      <th>3</th>\n",
       "      <td>131</td>\n",
       "      <td>. what is a corporation?</td>\n",
       "      <td>Examples of corporation in a Sentence. 1  He w...</td>\n",
       "      <td>0</td>\n",
       "      <td>3</td>\n",
       "    </tr>\n",
       "    <tr>\n",
       "      <th>4</th>\n",
       "      <td>131</td>\n",
       "      <td>. what is a corporation?</td>\n",
       "      <td>1: a government-owned corporation (as a utilit...</td>\n",
       "      <td>0</td>\n",
       "      <td>4</td>\n",
       "    </tr>\n",
       "    <tr>\n",
       "      <th>5</th>\n",
       "      <td>131</td>\n",
       "      <td>. what is a corporation?</td>\n",
       "      <td>McDonald's Corporation is one of the most reco...</td>\n",
       "      <td>1</td>\n",
       "      <td>5</td>\n",
       "    </tr>\n",
       "    <tr>\n",
       "      <th>6</th>\n",
       "      <td>131</td>\n",
       "      <td>. what is a corporation?</td>\n",
       "      <td>Corporations are owned by their stockholders (...</td>\n",
       "      <td>0</td>\n",
       "      <td>6</td>\n",
       "    </tr>\n",
       "    <tr>\n",
       "      <th>7</th>\n",
       "      <td>131</td>\n",
       "      <td>. what is a corporation?</td>\n",
       "      <td>An Association is an organized group of people...</td>\n",
       "      <td>0</td>\n",
       "      <td>7</td>\n",
       "    </tr>\n",
       "    <tr>\n",
       "      <th>8</th>\n",
       "      <td>131</td>\n",
       "      <td>. what is a corporation?</td>\n",
       "      <td>B Corp certification shines a light on the com...</td>\n",
       "      <td>0</td>\n",
       "      <td>8</td>\n",
       "    </tr>\n",
       "    <tr>\n",
       "      <th>9</th>\n",
       "      <td>131</td>\n",
       "      <td>. what is a corporation?</td>\n",
       "      <td>LLCs offer greater flexibility when it comes t...</td>\n",
       "      <td>0</td>\n",
       "      <td>9</td>\n",
       "    </tr>\n",
       "  </tbody>\n",
       "</table>\n",
       "</div>"
      ],
      "text/plain": [
       "     0                         1  \\\n",
       "0  131  . what is a corporation?   \n",
       "1  131  . what is a corporation?   \n",
       "2  131  . what is a corporation?   \n",
       "3  131  . what is a corporation?   \n",
       "4  131  . what is a corporation?   \n",
       "5  131  . what is a corporation?   \n",
       "6  131  . what is a corporation?   \n",
       "7  131  . what is a corporation?   \n",
       "8  131  . what is a corporation?   \n",
       "9  131  . what is a corporation?   \n",
       "\n",
       "                                                   2  3  4  \n",
       "0  A company is incorporated in a specific nation...  0  0  \n",
       "1  Today, there is a growing community of more th...  0  1  \n",
       "2  Corporation definition, an association of indi...  0  2  \n",
       "3  Examples of corporation in a Sentence. 1  He w...  0  3  \n",
       "4  1: a government-owned corporation (as a utilit...  0  4  \n",
       "5  McDonald's Corporation is one of the most reco...  1  5  \n",
       "6  Corporations are owned by their stockholders (...  0  6  \n",
       "7  An Association is an organized group of people...  0  7  \n",
       "8  B Corp certification shines a light on the com...  0  8  \n",
       "9  LLCs offer greater flexibility when it comes t...  0  9  "
      ]
     },
     "execution_count": 3,
     "metadata": {},
     "output_type": "execute_result"
    }
   ],
   "source": [
    "data.head(10)"
   ]
  },
  {
   "cell_type": "code",
   "execution_count": 4,
   "metadata": {},
   "outputs": [
    {
     "name": "stderr",
     "output_type": "stream",
     "text": [
      "Using TensorFlow backend.\n"
     ]
    }
   ],
   "source": [
    "import tensorflow as tf\n",
    "import tensorflow_hub as hub\n",
    "import pandas as pd\n",
    "from sklearn import preprocessing\n",
    "import keras\n",
    "import numpy as np"
   ]
  },
  {
   "cell_type": "code",
   "execution_count": null,
   "metadata": {},
   "outputs": [
    {
     "name": "stdout",
     "output_type": "stream",
     "text": [
      "INFO:tensorflow:Using /var/folders/kl/zz5ydbhj6rz9lc2n20_zl2qc0000gn/T/tfhub_modules to cache modules.\n",
      "INFO:tensorflow:Downloading TF-Hub Module 'https://tfhub.dev/google/elmo/2'.\n",
      "INFO:tensorflow:Downloading https://tfhub.dev/google/elmo/2: 10.35MB\n",
      "INFO:tensorflow:Downloading https://tfhub.dev/google/elmo/2: 20.35MB\n",
      "INFO:tensorflow:Downloading https://tfhub.dev/google/elmo/2: 30.35MB\n",
      "INFO:tensorflow:Downloading https://tfhub.dev/google/elmo/2: 40.35MB\n",
      "INFO:tensorflow:Downloading https://tfhub.dev/google/elmo/2: 50.35MB\n",
      "INFO:tensorflow:Downloading https://tfhub.dev/google/elmo/2: 60.35MB\n",
      "INFO:tensorflow:Downloading https://tfhub.dev/google/elmo/2: 70.35MB\n",
      "INFO:tensorflow:Downloading https://tfhub.dev/google/elmo/2: 80.35MB\n",
      "INFO:tensorflow:Downloading https://tfhub.dev/google/elmo/2: 90.35MB\n",
      "INFO:tensorflow:Downloading https://tfhub.dev/google/elmo/2: 100.35MB\n"
     ]
    }
   ],
   "source": [
    "url = \"https://tfhub.dev/google/elmo/2\"\n",
    "embed = hub.Module(url)"
   ]
  },
  {
   "cell_type": "code",
   "execution_count": null,
   "metadata": {},
   "outputs": [],
   "source": []
  }
 ],
 "metadata": {
  "kernelspec": {
   "display_name": "Python 3",
   "language": "python",
   "name": "python3"
  },
  "language_info": {
   "codemirror_mode": {
    "name": "ipython",
    "version": 3
   },
   "file_extension": ".py",
   "mimetype": "text/x-python",
   "name": "python",
   "nbconvert_exporter": "python",
   "pygments_lexer": "ipython3",
   "version": "3.6.1"
  }
 },
 "nbformat": 4,
 "nbformat_minor": 2
}
